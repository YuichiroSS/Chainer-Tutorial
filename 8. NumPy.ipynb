{
 "cells": [
  {
   "cell_type": "markdown",
   "metadata": {},
   "source": [
    "# 8. NumPy 入門"
   ]
  },
  {
   "cell_type": "markdown",
   "metadata": {},
   "source": [
    "## 8.1. NumPy を使う準備"
   ]
  },
  {
   "cell_type": "code",
   "execution_count": 2,
   "metadata": {},
   "outputs": [],
   "source": [
    "# これは言うまでもない\n",
    "import numpy as np"
   ]
  },
  {
   "cell_type": "markdown",
   "metadata": {},
   "source": [
    "## 8.2. 多次元配列を定義する"
   ]
  },
  {
   "cell_type": "code",
   "execution_count": 3,
   "metadata": {},
   "outputs": [
    {
     "name": "stdout",
     "output_type": "stream",
     "text": [
      "[1 2 3]\n"
     ]
    }
   ],
   "source": [
    "# ベクトルを定義\n",
    "a = np.array([1, 2, 3])\n",
    "\n",
    "print(a)"
   ]
  },
  {
   "cell_type": "markdown",
   "metadata": {},
   "source": [
    "`a.shape`で多次元配列の形がわかる  \n",
    "要素が整数のタプルで返却される"
   ]
  },
  {
   "cell_type": "code",
   "execution_count": 4,
   "metadata": {},
   "outputs": [
    {
     "name": "stdout",
     "output_type": "stream",
     "text": [
      "(3,)\n"
     ]
    }
   ],
   "source": [
    "print(a.shape)"
   ]
  },
  {
   "cell_type": "markdown",
   "metadata": {},
   "source": [
    "次元数は`ndim`という属性に保存されている  \n",
    "これは`len(a.shape)`と同じ値になる  \n",
    "今回、`a`というndarrayは1次元配列であるため、`a.shape`は要素数1のタプルで、  \n",
    "`ndim`の値は1となる\n",
    "\n",
    "次に3×3行列を定義してみる"
   ]
  },
  {
   "cell_type": "code",
   "execution_count": 5,
   "metadata": {},
   "outputs": [
    {
     "name": "stdout",
     "output_type": "stream",
     "text": [
      "[[1 2 3]\n",
      " [4 5 6]\n",
      " [7 8 9]]\n"
     ]
    }
   ],
   "source": [
    "# 行列を定義\n",
    "b = np.array(\n",
    "    [[1, 2, 3],\n",
    "     [4, 5, 6],\n",
    "     [7, 8, 9]]\n",
    ")\n",
    "\n",
    "print(b)"
   ]
  },
  {
   "cell_type": "markdown",
   "metadata": {},
   "source": [
    "形と次元数を調べる"
   ]
  },
  {
   "cell_type": "code",
   "execution_count": 6,
   "metadata": {},
   "outputs": [
    {
     "name": "stdout",
     "output_type": "stream",
     "text": [
      "('Shape : ', (3, 3))\n",
      "('Rank : ', 2)\n"
     ]
    }
   ],
   "source": [
    "print('Shape : ', b.shape)\n",
    "print('Rank : ', b.ndim)"
   ]
  },
  {
   "cell_type": "markdown",
   "metadata": {},
   "source": [
    "次に`size`という属性も確認する  \n",
    "この属性はndarrayがもつ要素数を表している  \n",
    "今回`b`は3×3行列なので、要素数は9"
   ]
  },
  {
   "cell_type": "code",
   "execution_count": 7,
   "metadata": {},
   "outputs": [
    {
     "name": "stdout",
     "output_type": "stream",
     "text": [
      "9\n"
     ]
    }
   ],
   "source": [
    "print(b.size)"
   ]
  },
  {
   "cell_type": "markdown",
   "metadata": {},
   "source": [
    "`np.array()`以外にも多次元配列を作る方法は色々ある  \n",
    "代表例は以下の通り"
   ]
  },
  {
   "cell_type": "markdown",
   "metadata": {},
   "source": [
    "`np.zeros((m, n))`：要素がすべて0の m×n行列を作る関数"
   ]
  },
  {
   "cell_type": "code",
   "execution_count": 8,
   "metadata": {},
   "outputs": [
    {
     "name": "stdout",
     "output_type": "stream",
     "text": [
      "[[0. 0. 0.]\n",
      " [0. 0. 0.]\n",
      " [0. 0. 0.]]\n"
     ]
    }
   ],
   "source": [
    "# 形を指定して、要素がすべて0の ndarray を作る\n",
    "# 3×3行列なので、関数には(3, 3)を代入\n",
    "a = np.zeros((3, 3))\n",
    "\n",
    "print(a)"
   ]
  },
  {
   "cell_type": "markdown",
   "metadata": {},
   "source": [
    "`np.ones((m, n))`：要素がすべて1の m×n行列を作る関数"
   ]
  },
  {
   "cell_type": "code",
   "execution_count": 9,
   "metadata": {},
   "outputs": [
    {
     "name": "stdout",
     "output_type": "stream",
     "text": [
      "[[1. 1. 1.]\n",
      " [1. 1. 1.]]\n"
     ]
    }
   ],
   "source": [
    "# 形を指定して、要素がすべて1の ndarray を作る\n",
    "# 2×3行列なので、関数には(2, 3)を代入\n",
    "b = np.ones((2, 3))\n",
    "\n",
    "print(b)"
   ]
  },
  {
   "cell_type": "markdown",
   "metadata": {},
   "source": [
    "`np.full((m, n), p)`：要素がすべて p の m×n行列を作る"
   ]
  },
  {
   "cell_type": "code",
   "execution_count": 10,
   "metadata": {},
   "outputs": [
    {
     "name": "stdout",
     "output_type": "stream",
     "text": [
      "[[9 9]\n",
      " [9 9]\n",
      " [9 9]]\n"
     ]
    }
   ],
   "source": [
    "# 形を指定して、指定した値のみを要素とする ndarray を作る\n",
    "# 今回は3×2行列で、値が9なので、関数には\"(3, 2), 9\"を代入する\n",
    "c = np.full((3, 2), 9)\n",
    "\n",
    "print(c)"
   ]
  },
  {
   "cell_type": "markdown",
   "metadata": {},
   "source": [
    "`np.eye(n)`：n×n の単位行列を作る関数"
   ]
  },
  {
   "cell_type": "code",
   "execution_count": 11,
   "metadata": {},
   "outputs": [
    {
     "name": "stdout",
     "output_type": "stream",
     "text": [
      "[[1. 0. 0. 0. 0.]\n",
      " [0. 1. 0. 0. 0.]\n",
      " [0. 0. 1. 0. 0.]\n",
      " [0. 0. 0. 1. 0.]\n",
      " [0. 0. 0. 0. 1.]]\n"
     ]
    }
   ],
   "source": [
    "# 指定された大きさの単位行列を表す ndarray を作る\n",
    "# 今回は5×5行列なので、関数には5を代入\n",
    "d = np.eye(5)\n",
    "\n",
    "print(d)"
   ]
  },
  {
   "cell_type": "markdown",
   "metadata": {},
   "source": [
    "`np.random.random((m, n))`：要素がすべて0 ～ 1の乱数で構成される n×m行列を作る関数"
   ]
  },
  {
   "cell_type": "code",
   "execution_count": 12,
   "metadata": {},
   "outputs": [
    {
     "name": "stdout",
     "output_type": "stream",
     "text": [
      "[[0.93860562 0.7204654  0.53207434 0.68458454 0.46783052]\n",
      " [0.26733676 0.1240392  0.60681701 0.68531171 0.20408242]\n",
      " [0.12699241 0.32041187 0.60068343 0.07609729 0.67432941]\n",
      " [0.31073916 0.6045333  0.80276883 0.2518034  0.01472834]]\n"
     ]
    }
   ],
   "source": [
    "# 形を指定して、0 ～ 1 の間の乱数を要素とする ndarray を作る\n",
    "# 今回は4×5行列なので、関数には(4, 5)を代入\n",
    "e = np.random.random((4, 5))\n",
    "\n",
    "print(e)"
   ]
  },
  {
   "cell_type": "markdown",
   "metadata": {},
   "source": [
    "`np.arange(n, m, p)`：n から始まり m になる（mは含まない）まで p ずつ増加する数列を作る関数"
   ]
  },
  {
   "cell_type": "code",
   "execution_count": 13,
   "metadata": {},
   "outputs": [
    {
     "name": "stdout",
     "output_type": "stream",
     "text": [
      "[3 4 5 6 7 8 9]\n"
     ]
    }
   ],
   "source": [
    "# 3 から始まり 10 の手前まで1ずつ増加する数列を作る\n",
    "# ベクトルで返却される\n",
    "f = np.arange(3, 10, 1)\n",
    "\n",
    "print(f)"
   ]
  },
  {
   "cell_type": "markdown",
   "metadata": {},
   "source": [
    "## 8.3. 多次元配列の要素を選択する"
   ]
  },
  {
   "cell_type": "markdown",
   "metadata": {},
   "source": [
    "作成したndarrayのうちの特定の要素を選択して、値を取り出す方法を確認する。   \n",
    "最もよく行われる方法は`[]`を使った添字表記（subscription）による要素の選択である。"
   ]
  },
  {
   "cell_type": "markdown",
   "metadata": {},
   "source": [
    "### 8.3.1. 整数による要素の選択"
   ]
  },
  {
   "cell_type": "markdown",
   "metadata": {},
   "source": [
    "上で作成した 4×5 行列`e`から 1 行 2 列目の値を取り出す  \n",
    "i 行 j 列の要素を取り出す際には、`[i - 1, j - 1]`を指定する"
   ]
  },
  {
   "cell_type": "code",
   "execution_count": 14,
   "metadata": {},
   "outputs": [
    {
     "name": "stdout",
     "output_type": "stream",
     "text": [
      "0.7204654007225353\n"
     ]
    }
   ],
   "source": [
    "val = e[0, 1]\n",
    "\n",
    "print(val)"
   ]
  },
  {
   "cell_type": "markdown",
   "metadata": {},
   "source": [
    "### 8.3.2. スライスによる要素の選択"
   ]
  },
  {
   "cell_type": "markdown",
   "metadata": {},
   "source": [
    "Pythonのリストと同様にスライス表記（slicing）を用いて選択したい要素を範囲指定することができる。  \n",
    "ndarrayではさらに、カンマ区切りで複数の次元に対するスライスを指定できる。"
   ]
  },
  {
   "cell_type": "code",
   "execution_count": 15,
   "metadata": {},
   "outputs": [
    {
     "name": "stdout",
     "output_type": "stream",
     "text": [
      "[[0.1240392  0.60681701 0.68531171]\n",
      " [0.32041187 0.60068343 0.07609729]]\n"
     ]
    }
   ],
   "source": [
    "# 4 × 5 行列 e の中央 2 × 3 = 6 個の値を取り出す\n",
    "center = e[1:3, 1:4]\n",
    "\n",
    "print(center)"
   ]
  },
  {
   "cell_type": "markdown",
   "metadata": {},
   "source": [
    "`e`と`center`の形を比較してみる"
   ]
  },
  {
   "cell_type": "code",
   "execution_count": 16,
   "metadata": {},
   "outputs": [
    {
     "name": "stdout",
     "output_type": "stream",
     "text": [
      "('Shape of e : ', (4, 5))\n",
      "('Shape of center : ', (2, 3))\n"
     ]
    }
   ],
   "source": [
    "print('Shape of e : ', e.shape)\n",
    "print('Shape of center : ', center.shape)"
   ]
  },
  {
   "cell_type": "markdown",
   "metadata": {},
   "source": [
    "また、インデックスを指定したり、スライスを用いて取り出した ndarray の一部に対し、値を代入することもできる"
   ]
  },
  {
   "cell_type": "code",
   "execution_count": 17,
   "metadata": {},
   "outputs": [
    {
     "name": "stdout",
     "output_type": "stream",
     "text": [
      "[[0.93860562 0.7204654  0.53207434 0.68458454 0.46783052]\n",
      " [0.26733676 0.         0.         0.         0.20408242]\n",
      " [0.12699241 0.         0.         0.         0.67432941]\n",
      " [0.31073916 0.6045333  0.80276883 0.2518034  0.01472834]]\n"
     ]
    }
   ],
   "source": [
    "# 上の真ん中 6 個の値を 0 にする\n",
    "e[1:3, 1:4] = 0\n",
    "\n",
    "print(e)"
   ]
  },
  {
   "cell_type": "markdown",
   "metadata": {},
   "source": [
    "### 8.3.3. 整数配列による要素の選択"
   ]
  },
  {
   "cell_type": "markdown",
   "metadata": {},
   "source": [
    "ndarrayの`[]`には、整数やスライスのほかに、整数配列を渡すこともできる。  \n",
    "整数配列とは、ここでは整数を要素とするPythonリストまたはndarrayのことを指す。"
   ]
  },
  {
   "cell_type": "code",
   "execution_count": 18,
   "metadata": {},
   "outputs": [
    {
     "name": "stdout",
     "output_type": "stream",
     "text": [
      "[[1 2 3]\n",
      " [4 5 6]\n",
      " [7 8 9]]\n"
     ]
    }
   ],
   "source": [
    "a = np.array(\n",
    "    [[1, 2, 3],\n",
    "     [4, 5, 6],\n",
    "     [7, 8, 9]]\n",
    ")\n",
    "\n",
    "print(a)"
   ]
  },
  {
   "cell_type": "markdown",
   "metadata": {},
   "source": [
    "このndarrayから、  \n",
    "1. 1行2列目：`a[0, 1]`  \n",
    "2. 3行2列目：`a[2, 1]`\n",
    "3. 2行1列目：`a[1, 0]`  \n",
    "の3つの要素を選択して並べ、形が`(3,)`であるようなndarrayを作りたいとする。"
   ]
  },
  {
   "cell_type": "markdown",
   "metadata": {},
   "source": [
    "以下のように、順に対象の要素を指定して並べ、新しいndarrayにすることによっても実現はできる。"
   ]
  },
  {
   "cell_type": "code",
   "execution_count": 19,
   "metadata": {},
   "outputs": [
    {
     "name": "stdout",
     "output_type": "stream",
     "text": [
      "[2 8 4]\n"
     ]
    }
   ],
   "source": [
    "b = np.array([a[0, 1], a[2, 1], a[1, 0]])\n",
    "\n",
    "print(b)"
   ]
  },
  {
   "cell_type": "markdown",
   "metadata": {},
   "source": [
    "しかし、同じことを**選択したい行、選択したい列をそれぞれ順にリストとして与える**ことでも行える。"
   ]
  },
  {
   "cell_type": "code",
   "execution_count": 20,
   "metadata": {},
   "outputs": [
    {
     "name": "stdout",
     "output_type": "stream",
     "text": [
      "[2 8 4]\n"
     ]
    }
   ],
   "source": [
    "# 上と同じ表示を違う方法で\n",
    "b = a[[0, 2, 1], [1, 1, 0]]\n",
    "\n",
    "print(b)"
   ]
  },
  {
   "cell_type": "markdown",
   "metadata": {},
   "source": [
    "**選択したい3つの値がどの行にあるか**だけに注目すると、それぞれ1行目、3行目、2行目にある要素。　　\n",
    "ゼロベースインデックスでは、それぞれ0,2,1行目である。  \n",
    "これが`a`の`[]`に与えられた1つ目のリスト`[0, 2, 1]`の意味である。  \n",
    "\n",
    "同様に**列に着目**すると、ゼロベースインデックスでそれぞれ1,1,0列目の要素である。  \n",
    "これが`a`の`[]`に与えられた2つ目のリスト`[1, 1, 0]`の意味となる。"
   ]
  },
  {
   "cell_type": "markdown",
   "metadata": {},
   "source": [
    "## 8.4. ndarrayのデータ型"
   ]
  },
  {
   "cell_type": "markdown",
   "metadata": {},
   "source": [
    "1つのndarryの要素は、すべて同じ型を持つ。  \n",
    "NumPyでは様々なデータ型を使うことができるが、ここでは一部のみ確認する。  \n",
    "NumpyはPythonリストを渡してndarrayを作る際に、その値からデータ型を推測する。  \n",
    "ndarrayのデータ型は、`dtype`という属性に保存されている。"
   ]
  },
  {
   "cell_type": "code",
   "execution_count": 21,
   "metadata": {},
   "outputs": [
    {
     "name": "stdout",
     "output_type": "stream",
     "text": [
      "int64\n"
     ]
    }
   ],
   "source": [
    "# 整数（Python の int 型）の要素を持つリストを与えた場合\n",
    "x = np.array([1, 2, 3])\n",
    "\n",
    "print(x.dtype)"
   ]
  },
  {
   "cell_type": "code",
   "execution_count": 22,
   "metadata": {},
   "outputs": [
    {
     "name": "stdout",
     "output_type": "stream",
     "text": [
      "float64\n"
     ]
    }
   ],
   "source": [
    "# 浮動小数点（Python の float 型）の要素を持つリストを与えた場合\n",
    "x = np.array([1., 2., 3.])\n",
    "\n",
    "print(x.dtype)"
   ]
  },
  {
   "cell_type": "markdown",
   "metadata": {},
   "source": [
    "以上のように、**Python の int 型は自動的に NumPy の int64 型**となった。また、**Python の float 型は自動的に NumPy のfloat64型**となった。\n",
    "Python の int 型は NumPy の int_ 型に対応付けられており、Python の float 型は NumPy の float_ 型に対応付けられている。  \n",
    "このint_ 型はプラットフォームによって int64 型と同じ場合と int32 型と同じ場合がある。float_ 型についても同様で、プラットフォームによって float64 型と同じ場合と float32 型と同じ場合がある。"
   ]
  },
  {
   "cell_type": "markdown",
   "metadata": {},
   "source": [
    "特定の型を指定して ndarray を作成するには以下のようにする。"
   ]
  },
  {
   "cell_type": "code",
   "execution_count": 23,
   "metadata": {},
   "outputs": [
    {
     "name": "stdout",
     "output_type": "stream",
     "text": [
      "float32\n"
     ]
    }
   ],
   "source": [
    "# 型を float32 に指定\n",
    "x = np.array([1, 2, 3], dtype=np.float32)\n",
    "\n",
    "print(x.dtype)"
   ]
  },
  {
   "cell_type": "markdown",
   "metadata": {},
   "source": [
    "このように、`dtype`という引数に Numpy の dtype オブジェクトを渡す。\n",
    "上のコードは 32 ビット浮動小数点型を指定する例である。\n",
    "同じことが、文字列で指定することによっても行うことができる。"
   ]
  },
  {
   "cell_type": "code",
   "execution_count": 24,
   "metadata": {},
   "outputs": [
    {
     "name": "stdout",
     "output_type": "stream",
     "text": [
      "float32\n"
     ]
    }
   ],
   "source": [
    "# 型を float32 に指定\n",
    "x = np.array([1, 2, 3], dtype='float32')\n",
    "\n",
    "print(x.dtype)"
   ]
  },
  {
   "cell_type": "markdown",
   "metadata": {},
   "source": [
    "これは以下のようにさらに短く書くこともできる。"
   ]
  },
  {
   "cell_type": "code",
   "execution_count": 25,
   "metadata": {},
   "outputs": [
    {
     "name": "stdout",
     "output_type": "stream",
     "text": [
      "float32\n"
     ]
    }
   ],
   "source": [
    "# 型を float32 に指定\n",
    "x = np.array([1, 2, 3], dtype='f')\n",
    "\n",
    "print(x.dtype)"
   ]
  },
  {
   "cell_type": "markdown",
   "metadata": {},
   "source": [
    "一度あるデータ型で定義した配列のデータ型を別のものに変更するには、`astype`を用いて変換を行う。"
   ]
  },
  {
   "cell_type": "code",
   "execution_count": 26,
   "metadata": {},
   "outputs": [
    {
     "name": "stdout",
     "output_type": "stream",
     "text": [
      "float64\n"
     ]
    }
   ],
   "source": [
    "x = x.astype(np.float64)\n",
    "\n",
    "print(x.dtype)"
   ]
  },
  {
   "cell_type": "markdown",
   "metadata": {},
   "source": [
    "## 8.5. 多次元配列を用いた計算"
   ]
  },
  {
   "cell_type": "markdown",
   "metadata": {},
   "source": [
    "ここでは ndarray を使って行列やベクトルを定義して、それらを用いていくつかの計算を行う。\n",
    "\n",
    "ndarray として定義されたベクトルや行列同士の**要素ごとの加減乗除**は、Python の数値同士の四則演算に用いられる `+`, `-`, `*`, `/` という記号を使って行うことができる。\n",
    "\n",
    "まず、同じ形の行列を２つ定義し、それらの**要素ごとの**加減乗除を行う。"
   ]
  },
  {
   "cell_type": "code",
   "execution_count": 27,
   "metadata": {},
   "outputs": [],
   "source": [
    "# 同じ形（3 × 3）の行列を 2 つ定義する\n",
    "a = np.array([\n",
    "    [0, 1, 2],\n",
    "    [3, 4, 5],\n",
    "    [6, 7, 8]\n",
    "])\n",
    "\n",
    "b = np.array([\n",
    "    [1, 2, 3],\n",
    "    [4, 5, 6],\n",
    "    [7, 8, 9]\n",
    "])"
   ]
  },
  {
   "cell_type": "code",
   "execution_count": 28,
   "metadata": {},
   "outputs": [
    {
     "name": "stdout",
     "output_type": "stream",
     "text": [
      "[[ 1  3  5]\n",
      " [ 7  9 11]\n",
      " [13 15 17]]\n"
     ]
    }
   ],
   "source": [
    "# 足し算\n",
    "c = a + b\n",
    "\n",
    "print(c)"
   ]
  },
  {
   "cell_type": "code",
   "execution_count": 29,
   "metadata": {},
   "outputs": [
    {
     "name": "stdout",
     "output_type": "stream",
     "text": [
      "[[-1 -1 -1]\n",
      " [-1 -1 -1]\n",
      " [-1 -1 -1]]\n"
     ]
    }
   ],
   "source": [
    "# 引き算\n",
    "c = a - b\n",
    "\n",
    "print(c)"
   ]
  },
  {
   "cell_type": "code",
   "execution_count": 30,
   "metadata": {},
   "outputs": [
    {
     "name": "stdout",
     "output_type": "stream",
     "text": [
      "[[ 0  2  6]\n",
      " [12 20 30]\n",
      " [42 56 72]]\n"
     ]
    }
   ],
   "source": [
    "# 掛け算\n",
    "c = a * b\n",
    "\n",
    "print(c)"
   ]
  },
  {
   "cell_type": "code",
   "execution_count": 31,
   "metadata": {},
   "outputs": [
    {
     "name": "stdout",
     "output_type": "stream",
     "text": [
      "[[0 0 0]\n",
      " [0 0 0]\n",
      " [0 0 0]]\n"
     ]
    }
   ],
   "source": [
    "# 割り算\n",
    "c = a / b\n",
    "\n",
    "print(c)\n",
    "# すべて 1 以下の小数になるので、0 しか出ない"
   ]
  },
  {
   "cell_type": "markdown",
   "metadata": {},
   "source": [
    "NumPy では、与えられた多次元配列に対して要素ごとに計算を行う関数が色々と用意されている。\n",
    "以下にいくつかの例を示す。"
   ]
  },
  {
   "cell_type": "code",
   "execution_count": 32,
   "metadata": {},
   "outputs": [
    {
     "name": "stdout",
     "output_type": "stream",
     "text": [
      "[[1.         1.41421356 1.73205081]\n",
      " [2.         2.23606798 2.44948974]\n",
      " [2.64575131 2.82842712 3.        ]]\n"
     ]
    }
   ],
   "source": [
    "# 要素ごとに平方根を計算する\n",
    "c = np.sqrt(b)\n",
    "\n",
    "print(c)"
   ]
  },
  {
   "cell_type": "code",
   "execution_count": 33,
   "metadata": {},
   "outputs": [
    {
     "name": "stdout",
     "output_type": "stream",
     "text": [
      "[[ 1  4  9]\n",
      " [16 25 36]\n",
      " [49 64 81]]\n"
     ]
    }
   ],
   "source": [
    "# 要素ごとに値を n 乗する\n",
    "# 今回は 2 乗で（n = 2）\n",
    "n = 2\n",
    "c = np.power(b, n)\n",
    "\n",
    "print(c)"
   ]
  },
  {
   "cell_type": "markdown",
   "metadata": {},
   "source": [
    "要素ごとに値を n 乗する計算は、以下のようにも書くことができる。"
   ]
  },
  {
   "cell_type": "code",
   "execution_count": 34,
   "metadata": {
    "scrolled": true
   },
   "outputs": [
    {
     "name": "stdout",
     "output_type": "stream",
     "text": [
      "[[ 1  4  9]\n",
      " [16 25 36]\n",
      " [49 64 81]]\n"
     ]
    }
   ],
   "source": [
    "c = b ** n\n",
    "\n",
    "print(c)"
   ]
  },
  {
   "cell_type": "markdown",
   "metadata": {},
   "source": [
    "はじめに紹介した四則演算は、**同じ大きさの**２つの行列同士で行っていた。\n",
    "ここで、**3 × 3**行列`a` と3次元ベクトル`b`という大きさの異なる配列を定義して、それらを足してみる。"
   ]
  },
  {
   "cell_type": "code",
   "execution_count": 35,
   "metadata": {},
   "outputs": [
    {
     "name": "stdout",
     "output_type": "stream",
     "text": [
      "[[ 1  3  5]\n",
      " [ 4  6  8]\n",
      " [ 7  9 11]]\n"
     ]
    }
   ],
   "source": [
    "a = np.array([\n",
    "    [0, 1, 2], \n",
    "    [3, 4, 5],\n",
    "    [6, 7, 8]\n",
    "]) \n",
    "\n",
    "b = np.array([1, 2, 3])\n",
    "\n",
    "c = a + b\n",
    "\n",
    "print(c)"
   ]
  },
  {
   "cell_type": "markdown",
   "metadata": {},
   "source": [
    "列が同じ行列同士の場合と同様に計算することができた。"
   ]
  },
  {
   "cell_type": "markdown",
   "metadata": {},
   "source": [
    "これは NumPy が自動的に**ブロードキャスト（broadcast）**と呼ばれる操作を行っているためである。"
   ]
  },
  {
   "cell_type": "markdown",
   "metadata": {},
   "source": [
    "## 8.6. ブロードキャスト"
   ]
  },
  {
   "cell_type": "markdown",
   "metadata": {},
   "source": [
    "行列同士の要素ごとの四則演算は、通常は行列の形が同じでなければ定義できない。しかし、8.5節の最後では**3 × 3**行列に３次元ベクトルを足す計算が実行できた。"
   ]
  },
  {
   "cell_type": "markdown",
   "metadata": {},
   "source": [
    "これが要素ごとの計算と同じように実行できる理由は、NumPyが自動的に３次元ベクトル`b`を３つ並べて出来る**３×３**行列を想定し、`a`と同じ形にそろえる操作を暗黙に行っているからである。この操作を**ブロードキャスト**と呼ぶ。"
   ]
  },
  {
   "cell_type": "markdown",
   "metadata": {},
   "source": [
    "算術演算を子おtなる形の配列ふぉうしで行う場合、NumPy は自動的に小さいほうの配列を**ブロードキャスト**し、大きいほうの配列と形を合わせる。ただし、この自動的に行われるブロードキャストでは、行いたい算術演算が、大きいほうの配列の一部に対して**繰り返し行われる**ことで実現されるため、実際に小さいほうの配列のデータをコピーして大きい配列をメモリ上に作成することは可能な限り避けられる。また、この繰り返しの計算は NumPy の内部の C 言語によって実装されたループで行われるため、高速である。"
   ]
  },
  {
   "cell_type": "markdown",
   "metadata": {},
   "source": [
    "よりシンプルな例で考えてみる。以下のような配列`a`があり、このすべての要素を 2 倍したいとする。"
   ]
  },
  {
   "cell_type": "code",
   "execution_count": 36,
   "metadata": {},
   "outputs": [
    {
     "name": "stdout",
     "output_type": "stream",
     "text": [
      "[1 2 3]\n"
     ]
    }
   ],
   "source": [
    "a = np.array([1, 2, 3])\n",
    "\n",
    "print(a)"
   ]
  },
  {
   "cell_type": "markdown",
   "metadata": {},
   "source": [
    "このとき、一つの方法は以下のように同じ形で要素がすべて 2 である別の配列を定義し、これと要素ごとの積を計算するやり方である。"
   ]
  },
  {
   "cell_type": "code",
   "execution_count": 37,
   "metadata": {},
   "outputs": [
    {
     "name": "stdout",
     "output_type": "stream",
     "text": [
      "[2 4 6]\n"
     ]
    }
   ],
   "source": [
    "b = np.array([2, 2, 2])\n",
    "\n",
    "c = a * b\n",
    "\n",
    "print(c)"
   ]
  },
  {
   "cell_type": "markdown",
   "metadata": {},
   "source": [
    "しかし、スカラの 22をただ`a`にかけるだけでも同じ結果が得られる。"
   ]
  },
  {
   "cell_type": "code",
   "execution_count": 38,
   "metadata": {},
   "outputs": [
    {
     "name": "stdout",
     "output_type": "stream",
     "text": [
      "[2 4 6]\n"
     ]
    }
   ],
   "source": [
    "c = a * 2\n",
    "\n",
    "print(c)"
   ]
  },
  {
   "cell_type": "markdown",
   "metadata": {},
   "source": [
    "`* 2`という計算が、`c`の 3 つの要素の**どの要素に対する計算なのか**が明示されていないため、NumPy はこれを**すべての要素に対して行うという意味**だと解釈して、スカラの 2 を`a`の要素数 3 だけ引き延ばしてからかけてくれる。"
   ]
  },
  {
   "cell_type": "markdown",
   "metadata": {},
   "source": [
    "**形の異なる配列同士の計算がブロードキャストによって可能になるためにはルールがある**"
   ]
  },
  {
   "cell_type": "markdown",
   "metadata": {},
   "source": [
    "それは、「**2 つの配列の各次元が同じ大きさになっているか、どちらかが 1 であること**」である。このルールを満たさない場合、NumPy は \"ValueError: operands could not be broadcast together with shapes (1 つ目の配列の形) (2 つ目の配列の形)\"というエラーを出す。"
   ]
  },
  {
   "cell_type": "markdown",
   "metadata": {},
   "source": [
    "ブロードキャストされた配列の各次元のサイズは、入力された配列のその次元のサイズの中で最大の値と同じになっている。入力された配列は、各次元のサイズが入力のうちの大きいほうのサイズと同じになるようにブロードキャストされ、その拡張されたサイズで計算される。"
   ]
  },
  {
   "cell_type": "markdown",
   "metadata": {},
   "source": [
    "次に、以下のような 2 つの配列`a`と`b`を定義し、足す。"
   ]
  },
  {
   "cell_type": "code",
   "execution_count": 39,
   "metadata": {},
   "outputs": [
    {
     "name": "stdout",
     "output_type": "stream",
     "text": [
      "('a :', array([[[3, 3, 7]],\n",
      "\n",
      "       [[6, 6, 1]]]))\n",
      "('a.shape : ', (2, 1, 3))\n",
      "('b : ', array([[5],\n",
      "       [8],\n",
      "       [0]]))\n",
      "('b.shape : ', (3, 1))\n",
      "('a + b : ', array([[[ 8,  8, 12],\n",
      "        [11, 11, 15],\n",
      "        [ 3,  3,  7]],\n",
      "\n",
      "       [[11, 11,  6],\n",
      "        [14, 14,  9],\n",
      "        [ 6,  6,  1]]]))\n",
      "('(a + b).shape : ', (2, 3, 3))\n"
     ]
    }
   ],
   "source": [
    "# 0 ～ 9 の範囲の値をランダムに用いて埋められた（2, 1, 3）と（3, 1）という大きさの配列を作る\n",
    "a = np.random.randint(0, 10, (2, 1, 3))\n",
    "b = np.random.randint(0, 10, (3, 1))\n",
    "\n",
    "print('a :', a)\n",
    "print('a.shape : ', a.shape)\n",
    "print('b : ', b)\n",
    "print('b.shape : ', b.shape)\n",
    "\n",
    "# 加算\n",
    "c = a + b\n",
    "\n",
    "print('a + b : ', c)\n",
    "print('(a + b).shape : ', c.shape)"
   ]
  },
  {
   "cell_type": "markdown",
   "metadata": {},
   "source": [
    "`a`の形は`(2, 1, 3)`で、`b`の形は`(3, 1)`であった。この 2 つの配列の**末尾次元（trailing dimension）**はそれぞれ 3 と 1 なので、ルールにあった「次元が同じサイズであるか、どちらかが 1 であること」を満たしている。"
   ]
  },
  {
   "cell_type": "markdown",
   "metadata": {},
   "source": [
    "次に、各配列の第 2 次元に注目してみる。それぞれ 1 と 3 である。これもルールを満たしている。"
   ]
  },
  {
   "cell_type": "markdown",
   "metadata": {},
   "source": [
    "ここで、`a`は 3 次元配列だが、`b`は 2 次元配列である。つまり、次元数が異なっている。このような場合は、`b`は**一番上の次元にサイズが 1 の次元が追加された形**`(1, 3, 1)`として扱われる。そして 2 つの配列の各次元ごとのサイズの最大値をとった形`(2, 3 ,3)`にブロードキャストされ、足し算が行われる。"
   ]
  },
  {
   "cell_type": "markdown",
   "metadata": {},
   "source": [
    "このように、もし 2 つの配列のランクが異なる場合は、次元数が小さいほうの配列が大きい方と同じ次元数になるまでその形の先頭に新たな次元が追加される。サイズが 1 の次元がいくつ追加されても、要素の数は変わらないことに注意すること。要素数（`size`属性で取得できる値）は、各次元のサイズの掛け算になるので、 1 を何度かけても変わらないことから、これが成り立つことがわかる。"
   ]
  },
  {
   "cell_type": "markdown",
   "metadata": {},
   "source": [
    "NumPy がブロードキャストのために自動的に行う新しい次元の挿入は、`[]`を使った以下のような表記を用いることで**手動で行うこともできる**。"
   ]
  },
  {
   "cell_type": "code",
   "execution_count": 40,
   "metadata": {},
   "outputs": [
    {
     "name": "stdout",
     "output_type": "stream",
     "text": [
      "('Original shape:', (3, 1))\n",
      "('Added new axis to the top:', (1, 3, 1))\n",
      "('Added new axis to the middle:', (3, 1, 1))\n"
     ]
    }
   ],
   "source": [
    "print('Original shape:', b.shape)\n",
    "\n",
    "b_expanded = b[np.newaxis, :, :]\n",
    "\n",
    "print('Added new axis to the top:', b_expanded.shape)\n",
    "\n",
    "b_expanded2 = b[:, np.newaxis, :]\n",
    "\n",
    "print('Added new axis to the middle:', b_expanded2.shape)"
   ]
  },
  {
   "cell_type": "markdown",
   "metadata": {},
   "source": [
    "`np.newaxis`が指定された位置に、新しい次元が挿入される。配列が持つ数値の数は変わっていない。そのため、挿入された次元のサイズは必ず 1 となる。"
   ]
  },
  {
   "cell_type": "code",
   "execution_count": 41,
   "metadata": {},
   "outputs": [
    {
     "name": "stdout",
     "output_type": "stream",
     "text": [
      "[[5]\n",
      " [8]\n",
      " [0]]\n"
     ]
    }
   ],
   "source": [
    "print(b)"
   ]
  },
  {
   "cell_type": "code",
   "execution_count": 42,
   "metadata": {},
   "outputs": [
    {
     "name": "stdout",
     "output_type": "stream",
     "text": [
      "[[[5]\n",
      "  [8]\n",
      "  [0]]]\n"
     ]
    }
   ],
   "source": [
    "print(b_expanded)"
   ]
  },
  {
   "cell_type": "code",
   "execution_count": 43,
   "metadata": {},
   "outputs": [
    {
     "name": "stdout",
     "output_type": "stream",
     "text": [
      "[[[5]]\n",
      "\n",
      " [[8]]\n",
      "\n",
      " [[0]]]\n"
     ]
    }
   ],
   "source": [
    "print(b_expanded2)"
   ]
  },
  {
   "cell_type": "markdown",
   "metadata": {},
   "source": [
    "NumPy のブロードキャストは慣れるまで直観に反するように感じる場合があるかもしれない。しかし、使いこなすと同じ計算が Python のループを使って行うよりも高速に行えるため、ブロードキャストを理解することは非常に重要である。  \n",
    "ひとつ具体例を見てみる。"
   ]
  },
  {
   "cell_type": "markdown",
   "metadata": {},
   "source": [
    "5 × 5 行列 `a`に、3 次元ベクトル `b` を足す。まず、`a`、`b` および結果を格納する配列 `c` を定義する。"
   ]
  },
  {
   "cell_type": "code",
   "execution_count": 44,
   "metadata": {},
   "outputs": [],
   "source": [
    "a = np.array([\n",
    "    [0, 1, 2, 1, 0],\n",
    "    [3, 4, 5, 4, 3],\n",
    "    [6, 7, 8, 7, 6],\n",
    "    [3, 4, 5, 4, 4],\n",
    "    [0, 1, 2, 1, 0]\n",
    "])\n",
    "\n",
    "b = np.array([1, 2, 3, 4, 5])\n",
    "\n",
    "# 結果を格納する配列を先に作る\n",
    "c = np.empty((5, 5))"
   ]
  },
  {
   "cell_type": "markdown",
   "metadata": {},
   "source": [
    "`%%timeit` という Jupyter Notebook で使用できるそのセルの実行時間を計測するためのマジックを使って、`a` の各行（1 次元目）に `b` の値を足していく計算を Python のループを使って 1 行ずつ処理していくコードの実行時間を計測する。"
   ]
  },
  {
   "cell_type": "code",
   "execution_count": 45,
   "metadata": {},
   "outputs": [
    {
     "name": "stdout",
     "output_type": "stream",
     "text": [
      "The slowest run took 7.36 times longer than the fastest. This could mean that an intermediate result is being cached.\n",
      "100000 loops, best of 3: 15.8 µs per loop\n"
     ]
    }
   ],
   "source": [
    "%%timeit\n",
    "for i in range(a.shape[0]):\n",
    "    c[i, :] = a[i, :] + b"
   ]
  },
  {
   "cell_type": "code",
   "execution_count": 46,
   "metadata": {},
   "outputs": [
    {
     "name": "stdout",
     "output_type": "stream",
     "text": [
      "[[ 1.  3.  5.  5.  5.]\n",
      " [ 4.  6.  8.  8.  8.]\n",
      " [ 7.  9. 11. 11. 11.]\n",
      " [ 4.  6.  8.  8.  9.]\n",
      " [ 1.  3.  5.  5.  5.]]\n"
     ]
    }
   ],
   "source": [
    "print(c)"
   ]
  },
  {
   "cell_type": "markdown",
   "metadata": {},
   "source": [
    "次に、NumPy のブロードキャストが活用された方法で同じ計算を行う。"
   ]
  },
  {
   "cell_type": "code",
   "execution_count": 47,
   "metadata": {},
   "outputs": [
    {
     "name": "stdout",
     "output_type": "stream",
     "text": [
      "The slowest run took 13.21 times longer than the fastest. This could mean that an intermediate result is being cached.\n",
      "100000 loops, best of 3: 3.18 µs per loop\n"
     ]
    }
   ],
   "source": [
    "%%timeit\n",
    "c = a + b"
   ]
  },
  {
   "cell_type": "code",
   "execution_count": 48,
   "metadata": {},
   "outputs": [
    {
     "name": "stdout",
     "output_type": "stream",
     "text": [
      "[[ 1.  3.  5.  5.  5.]\n",
      " [ 4.  6.  8.  8.  8.]\n",
      " [ 7.  9. 11. 11. 11.]\n",
      " [ 4.  6.  8.  8.  9.]\n",
      " [ 1.  3.  5.  5.  5.]]\n"
     ]
    }
   ],
   "source": [
    "print(c)"
   ]
  },
  {
   "cell_type": "markdown",
   "metadata": {},
   "source": [
    "計算結果は当然同じになる。しかし、実行時間が数倍短くなっている。"
   ]
  },
  {
   "cell_type": "markdown",
   "metadata": {},
   "source": [
    "このように、ブロードキャストを理解して活用することで、記述が簡単になるだけでなく、実行速度という点においても有利になる。"
   ]
  },
  {
   "cell_type": "markdown",
   "metadata": {},
   "source": [
    "## 8.7. 行列積"
   ]
  },
  {
   "cell_type": "markdown",
   "metadata": {},
   "source": [
    "行列の要素ごとの積は `*` を用いて計算できた。一方、通常の行列同士の積（行列積）の計算は、`*` ではなく、別の方法で行う。  \n",
    "方法は 2 種類ある。"
   ]
  },
  {
   "cell_type": "markdown",
   "metadata": {},
   "source": [
    "1 つは、`np.dot()`関数を用いる方法である。`np.dot()`は 2 つの引数を取り、それらの行列積を計算して返す関数である。今、`A` という行列と `B` という行列があり、行列積 `AB` を計算したいとする。これは `np.dot(A, B)`と書くことで計算できる。もし `BA` を計算したい場合は、`np.dot(B, A)` と書く。"
   ]
  },
  {
   "cell_type": "markdown",
   "metadata": {},
   "source": [
    "もう 1 つは、ndarray オブジェクトがもつ `dot()` メソッドを使う方法である。これを用いると、同じ計算が `A.dot(B)` と書くことで行える。"
   ]
  },
  {
   "cell_type": "code",
   "execution_count": 49,
   "metadata": {},
   "outputs": [],
   "source": [
    "# 行列 A の定義\n",
    "A = np.array([\n",
    "    [0, 1, 2],\n",
    "    [3, 4, 5],\n",
    "    [6, 7, 8]\n",
    "])\n",
    "\n",
    "# 行列 B の定義\n",
    "B =np.array([\n",
    "    [1, 2, 3],\n",
    "    [4, 5, 6],\n",
    "    [7, 8, 9]\n",
    "])"
   ]
  },
  {
   "cell_type": "markdown",
   "metadata": {},
   "source": [
    "実際にこの 3 × 3 の 2 つの行列の行列積を計算してみる。"
   ]
  },
  {
   "cell_type": "code",
   "execution_count": 50,
   "metadata": {},
   "outputs": [
    {
     "name": "stdout",
     "output_type": "stream",
     "text": [
      "[[ 18  21  24]\n",
      " [ 54  66  78]\n",
      " [ 90 111 132]]\n"
     ]
    }
   ],
   "source": [
    "# 行列積の計算（1）\n",
    "c = np.dot(A, B)\n",
    "\n",
    "print(c)"
   ]
  },
  {
   "cell_type": "markdown",
   "metadata": {},
   "source": [
    "同じ計算をもう一つの記述方法で行う。"
   ]
  },
  {
   "cell_type": "code",
   "execution_count": 51,
   "metadata": {},
   "outputs": [
    {
     "name": "stdout",
     "output_type": "stream",
     "text": [
      "[[ 18  21  24]\n",
      " [ 54  66  78]\n",
      " [ 90 111 132]]\n"
     ]
    }
   ],
   "source": [
    "c = A.dot(B)\n",
    "\n",
    "print(c)"
   ]
  },
  {
   "cell_type": "code",
   "execution_count": 52,
   "metadata": {},
   "outputs": [
    {
     "name": "stdout",
     "output_type": "stream",
     "text": [
      "int64\n"
     ]
    }
   ],
   "source": [
    "print(a.dtype)"
   ]
  },
  {
   "cell_type": "markdown",
   "metadata": {},
   "source": [
    "## 8.8. 基本的な統計量の求め方"
   ]
  },
  {
   "cell_type": "markdown",
   "metadata": {},
   "source": [
    "本節では、多次元配列に含まれる値の平均・分散・標準偏差・最大値・最小値といった統計量を計算する方法を見てみる。8 × 10 の行列を作成し、この中に含まれる値全体にわたるこれらの統計値を計算してみる。"
   ]
  },
  {
   "cell_type": "code",
   "execution_count": 53,
   "metadata": {},
   "outputs": [
    {
     "name": "stdout",
     "output_type": "stream",
     "text": [
      "[[9 4 4 7 8 2 2 4 7 4]\n",
      " [3 6 5 8 5 9 6 3 1 8]\n",
      " [1 5 1 3 4 3 2 3 9 3]\n",
      " [5 6 3 9 7 9 9 0 9 4]\n",
      " [7 0 0 2 7 4 2 5 8 4]\n",
      " [2 7 1 2 2 1 7 7 5 3]\n",
      " [8 3 2 1 6 4 4 7 1 9]\n",
      " [5 8 2 5 6 7 0 5 9 8]]\n"
     ]
    }
   ],
   "source": [
    "x = np.random.randint(0, 10, (8, 10))\n",
    "\n",
    "print(x)"
   ]
  },
  {
   "cell_type": "code",
   "execution_count": 54,
   "metadata": {},
   "outputs": [
    {
     "name": "stdout",
     "output_type": "stream",
     "text": [
      "4.7\n"
     ]
    }
   ],
   "source": [
    "# 平均値\n",
    "print(x.mean())"
   ]
  },
  {
   "cell_type": "code",
   "execution_count": 55,
   "metadata": {},
   "outputs": [
    {
     "name": "stdout",
     "output_type": "stream",
     "text": [
      "7.410000000000001\n"
     ]
    }
   ],
   "source": [
    "# 分散\n",
    "print(x.var())"
   ]
  },
  {
   "cell_type": "code",
   "execution_count": 56,
   "metadata": {},
   "outputs": [
    {
     "name": "stdout",
     "output_type": "stream",
     "text": [
      "2.72213151776324\n"
     ]
    }
   ],
   "source": [
    "# 標準偏差\n",
    "print(x.std())"
   ]
  },
  {
   "cell_type": "code",
   "execution_count": 57,
   "metadata": {},
   "outputs": [
    {
     "name": "stdout",
     "output_type": "stream",
     "text": [
      "9\n"
     ]
    }
   ],
   "source": [
    "# 最大値\n",
    "print(x.max())"
   ]
  },
  {
   "cell_type": "code",
   "execution_count": 58,
   "metadata": {},
   "outputs": [
    {
     "name": "stdout",
     "output_type": "stream",
     "text": [
      "0\n"
     ]
    }
   ],
   "source": [
    "# 最小値\n",
    "print(x.min())"
   ]
  },
  {
   "cell_type": "markdown",
   "metadata": {},
   "source": [
    "ここで、`x` は 2 次元配列なので、各次元に沿ったこれらの統計値の計算も行える。例えば、最後の次元内だけで平均を取ると、8 この平均値が得られるはずである。平均を計算したい軸（何次元目に沿って計算するか）を `axis` という引数に指定する。"
   ]
  },
  {
   "cell_type": "code",
   "execution_count": 59,
   "metadata": {},
   "outputs": [
    {
     "name": "stdout",
     "output_type": "stream",
     "text": [
      "[5.1 5.4 3.4 6.1 3.9 3.7 4.5 5.5]\n"
     ]
    }
   ],
   "source": [
    "print(x.mean(axis=1))"
   ]
  },
  {
   "cell_type": "markdown",
   "metadata": {},
   "source": [
    "これは、以下のように 1 次元目の値の平均を計算していったものを並べているのと同じことである。（ゼロベースインデックスで考えている。`x` の形は `(8, 10)` なので、0 次元目のサイズが 8、1 次元目のサイズが 10 である。）"
   ]
  },
  {
   "cell_type": "code",
   "execution_count": 61,
   "metadata": {},
   "outputs": [
    {
     "data": {
      "text/plain": [
       "array([5.1, 5.4, 3.4, 6.1, 3.9, 3.7, 4.5, 5.5])"
      ]
     },
     "execution_count": 61,
     "metadata": {},
     "output_type": "execute_result"
    }
   ],
   "source": [
    "np.array([\n",
    "    x[0, :].mean(),\n",
    "    x[1, :].mean(),\n",
    "    x[2, :].mean(),\n",
    "    x[3, :].mean(),\n",
    "    x[4, :].mean(),\n",
    "    x[5, :].mean(),\n",
    "    x[6, :].mean(),\n",
    "    x[7, :].mean()\n",
    "])"
   ]
  }
 ],
 "metadata": {
  "kernelspec": {
   "display_name": "Python 3",
   "language": "python",
   "name": "python3"
  }
 },
 "nbformat": 4,
 "nbformat_minor": 2
}
