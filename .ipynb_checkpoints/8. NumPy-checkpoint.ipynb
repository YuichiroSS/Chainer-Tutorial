{
 "cells": [
  {
   "cell_type": "markdown",
   "metadata": {},
   "source": [
    "# 8. NumPy 入門"
   ]
  },
  {
   "cell_type": "markdown",
   "metadata": {},
   "source": [
    "## 8.1. NumPy を使う準備"
   ]
  },
  {
   "cell_type": "code",
   "execution_count": 1,
   "metadata": {},
   "outputs": [],
   "source": [
    "# これは言うまでもない\n",
    "import numpy as np"
   ]
  },
  {
   "cell_type": "markdown",
   "metadata": {},
   "source": [
    "## 8.2. 多次元配列を定義する"
   ]
  },
  {
   "cell_type": "code",
   "execution_count": 2,
   "metadata": {},
   "outputs": [
    {
     "name": "stdout",
     "output_type": "stream",
     "text": [
      "[1 2 3]\n"
     ]
    }
   ],
   "source": [
    "# ベクトルを定義\n",
    "a = np.array([1, 2, 3])\n",
    "\n",
    "print(a)"
   ]
  },
  {
   "cell_type": "markdown",
   "metadata": {},
   "source": [
    "`a.shape`で多次元配列の形がわかる  \n",
    "要素が整数のタプルで返却される"
   ]
  },
  {
   "cell_type": "code",
   "execution_count": 3,
   "metadata": {},
   "outputs": [
    {
     "name": "stdout",
     "output_type": "stream",
     "text": [
      "(3,)\n"
     ]
    }
   ],
   "source": [
    "print(a.shape)"
   ]
  },
  {
   "cell_type": "markdown",
   "metadata": {},
   "source": [
    "次元数は`ndim`という属性に保存されている  \n",
    "これは`len(a.shape)`と同じ値になる  \n",
    "今回、`a`というndarrayは1次元配列であるため、`a.shape`は要素数1のタプルで、  \n",
    "`ndim`の値は1となる\n",
    "\n",
    "次に3×3行列を定義してみる"
   ]
  },
  {
   "cell_type": "code",
   "execution_count": 4,
   "metadata": {},
   "outputs": [
    {
     "name": "stdout",
     "output_type": "stream",
     "text": [
      "[[1 2 3]\n",
      " [4 5 6]\n",
      " [7 8 9]]\n"
     ]
    }
   ],
   "source": [
    "# 行列を定義\n",
    "b = np.array(\n",
    "    [[1, 2, 3],\n",
    "     [4, 5, 6],\n",
    "     [7, 8, 9]]\n",
    ")\n",
    "\n",
    "print(b)"
   ]
  },
  {
   "cell_type": "markdown",
   "metadata": {},
   "source": [
    "形と次元数を調べる"
   ]
  },
  {
   "cell_type": "code",
   "execution_count": 5,
   "metadata": {},
   "outputs": [
    {
     "name": "stdout",
     "output_type": "stream",
     "text": [
      "('Shape : ', (3, 3))\n",
      "('Rank : ', 2)\n"
     ]
    }
   ],
   "source": [
    "print('Shape : ', b.shape)\n",
    "print('Rank : ', b.ndim)"
   ]
  },
  {
   "cell_type": "markdown",
   "metadata": {},
   "source": [
    "次に`size`という属性も確認する  \n",
    "この属性はndarrayがもつ要素数を表している  \n",
    "今回`b`は3×3行列なので、要素数は9"
   ]
  },
  {
   "cell_type": "code",
   "execution_count": 6,
   "metadata": {},
   "outputs": [
    {
     "name": "stdout",
     "output_type": "stream",
     "text": [
      "9\n"
     ]
    }
   ],
   "source": [
    "print(b.size)"
   ]
  },
  {
   "cell_type": "markdown",
   "metadata": {},
   "source": [
    "`np.array()`以外にも多次元配列を作る方法は色々ある  \n",
    "代表例は以下の通り"
   ]
  },
  {
   "cell_type": "markdown",
   "metadata": {},
   "source": [
    "`np.zeros((m, n))`：要素がすべて0の m×n行列を作る関数"
   ]
  },
  {
   "cell_type": "code",
   "execution_count": 7,
   "metadata": {},
   "outputs": [
    {
     "name": "stdout",
     "output_type": "stream",
     "text": [
      "[[0. 0. 0.]\n",
      " [0. 0. 0.]\n",
      " [0. 0. 0.]]\n"
     ]
    }
   ],
   "source": [
    "# 形を指定して、要素がすべて0の ndarray を作る\n",
    "# 3×3行列なので、関数には(3, 3)を代入\n",
    "a = np.zeros((3, 3))\n",
    "\n",
    "print(a)"
   ]
  },
  {
   "cell_type": "markdown",
   "metadata": {},
   "source": [
    "`np.ones((m, n))`：要素がすべて1の m×n行列を作る関数"
   ]
  },
  {
   "cell_type": "code",
   "execution_count": 8,
   "metadata": {},
   "outputs": [
    {
     "name": "stdout",
     "output_type": "stream",
     "text": [
      "[[1. 1. 1.]\n",
      " [1. 1. 1.]]\n"
     ]
    }
   ],
   "source": [
    "# 形を指定して、要素がすべて1の ndarray を作る\n",
    "# 2×3行列なので、関数には(2, 3)を代入\n",
    "b = np.ones((2, 3))\n",
    "\n",
    "print(b)"
   ]
  },
  {
   "cell_type": "markdown",
   "metadata": {},
   "source": [
    "`np.full((m, n), p)`：要素がすべて p の m×n行列を作る"
   ]
  },
  {
   "cell_type": "code",
   "execution_count": 9,
   "metadata": {},
   "outputs": [
    {
     "name": "stdout",
     "output_type": "stream",
     "text": [
      "[[9 9]\n",
      " [9 9]\n",
      " [9 9]]\n"
     ]
    }
   ],
   "source": [
    "# 形を指定して、指定した値のみを要素とする ndarray を作る\n",
    "# 今回は3×2行列で、値が9なので、関数には\"(3, 2), 9\"を代入する\n",
    "c = np.full((3, 2), 9)\n",
    "\n",
    "print(c)"
   ]
  },
  {
   "cell_type": "markdown",
   "metadata": {},
   "source": [
    "`np.eye(n)`：n×n の単位行列を作る関数"
   ]
  },
  {
   "cell_type": "code",
   "execution_count": 10,
   "metadata": {},
   "outputs": [
    {
     "name": "stdout",
     "output_type": "stream",
     "text": [
      "[[1. 0. 0. 0. 0.]\n",
      " [0. 1. 0. 0. 0.]\n",
      " [0. 0. 1. 0. 0.]\n",
      " [0. 0. 0. 1. 0.]\n",
      " [0. 0. 0. 0. 1.]]\n"
     ]
    }
   ],
   "source": [
    "# 指定された大きさの単位行列を表す ndarray を作る\n",
    "# 今回は5×5行列なので、関数には5を代入\n",
    "d = np.eye(5)\n",
    "\n",
    "print(d)"
   ]
  },
  {
   "cell_type": "markdown",
   "metadata": {},
   "source": [
    "`np.random.random((m, n))`：要素がすべて0 ～ 1の乱数で構成される n×m行列を作る関数"
   ]
  },
  {
   "cell_type": "code",
   "execution_count": 11,
   "metadata": {},
   "outputs": [
    {
     "name": "stdout",
     "output_type": "stream",
     "text": [
      "[[0.47190393 0.13148177 0.83794986 0.80898626 0.48877384]\n",
      " [0.19548929 0.27767239 0.09309754 0.046176   0.49674092]\n",
      " [0.4247572  0.32516469 0.33658222 0.24423725 0.94363269]\n",
      " [0.43239399 0.67822813 0.97328985 0.53005883 0.47856505]]\n"
     ]
    }
   ],
   "source": [
    "# 形を指定して、0 ～ 1 の間の乱数を要素とする ndarray を作る\n",
    "# 今回は4×5行列なので、関数には(4, 5)を代入\n",
    "e = np.random.random((4, 5))\n",
    "\n",
    "print(e)"
   ]
  },
  {
   "cell_type": "markdown",
   "metadata": {},
   "source": [
    "`np.arange(n, m, p)`：n から始まり m になる（mは含まない）まで p ずつ増加する数列を作る関数"
   ]
  },
  {
   "cell_type": "code",
   "execution_count": 12,
   "metadata": {},
   "outputs": [
    {
     "name": "stdout",
     "output_type": "stream",
     "text": [
      "[3 4 5 6 7 8 9]\n"
     ]
    }
   ],
   "source": [
    "# 3 から始まり 10 の手前まで1ずつ増加する数列を作る\n",
    "# ベクトルで返却される\n",
    "f = np.arange(3, 10, 1)\n",
    "\n",
    "print(f)"
   ]
  },
  {
   "cell_type": "markdown",
   "metadata": {},
   "source": [
    "## 8.3. 多次元配列の要素を選択する"
   ]
  },
  {
   "cell_type": "markdown",
   "metadata": {},
   "source": [
    "作成したndarrayのうちの特定の要素を選択して、値を取り出す方法を確認する。   \n",
    "最もよく行われる方法は`[]`を使った添字表記（subscription）による要素の選択である。"
   ]
  },
  {
   "cell_type": "markdown",
   "metadata": {},
   "source": [
    "### 8.3.1. 整数による要素の選択"
   ]
  },
  {
   "cell_type": "markdown",
   "metadata": {},
   "source": [
    "上で作成した 4×5 行列`e`から 1 行 2 列目の値を取り出す  \n",
    "i 行 j 列の要素を取り出す際には、`[i - 1, j - 1]`を指定する"
   ]
  },
  {
   "cell_type": "code",
   "execution_count": 13,
   "metadata": {},
   "outputs": [
    {
     "name": "stdout",
     "output_type": "stream",
     "text": [
      "0.1314817694154884\n"
     ]
    }
   ],
   "source": [
    "val = e[0, 1]\n",
    "\n",
    "print(val)"
   ]
  },
  {
   "cell_type": "markdown",
   "metadata": {},
   "source": [
    "### 8.3.2. スライスによる要素の選択"
   ]
  },
  {
   "cell_type": "markdown",
   "metadata": {},
   "source": [
    "Pythonのリストと同様にスライス表記（slicing）を用いて選択したい要素を範囲指定することができる。  \n",
    "ndarrayではさらに、カンマ区切りで複数の次元に対するスライスを指定できる。"
   ]
  },
  {
   "cell_type": "code",
   "execution_count": 14,
   "metadata": {},
   "outputs": [
    {
     "name": "stdout",
     "output_type": "stream",
     "text": [
      "[[0.27767239 0.09309754 0.046176  ]\n",
      " [0.32516469 0.33658222 0.24423725]]\n"
     ]
    }
   ],
   "source": [
    "# 4 × 5 行列 e の中央 2 × 3 = 6 個の値を取り出す\n",
    "center = e[1:3, 1:4]\n",
    "\n",
    "print(center)"
   ]
  },
  {
   "cell_type": "markdown",
   "metadata": {},
   "source": [
    "`e`と`center`の形を比較してみる"
   ]
  },
  {
   "cell_type": "code",
   "execution_count": 15,
   "metadata": {},
   "outputs": [
    {
     "name": "stdout",
     "output_type": "stream",
     "text": [
      "('Shape of e : ', (4, 5))\n",
      "('Shape of center : ', (2, 3))\n"
     ]
    }
   ],
   "source": [
    "print('Shape of e : ', e.shape)\n",
    "print('Shape of center : ', center.shape)"
   ]
  },
  {
   "cell_type": "markdown",
   "metadata": {},
   "source": [
    "また、インデックスを指定したり、スライスを用いて取り出した ndarray の一部に対し、値を代入することもできる"
   ]
  },
  {
   "cell_type": "code",
   "execution_count": 16,
   "metadata": {},
   "outputs": [
    {
     "name": "stdout",
     "output_type": "stream",
     "text": [
      "[[0.47190393 0.13148177 0.83794986 0.80898626 0.48877384]\n",
      " [0.19548929 0.         0.         0.         0.49674092]\n",
      " [0.4247572  0.         0.         0.         0.94363269]\n",
      " [0.43239399 0.67822813 0.97328985 0.53005883 0.47856505]]\n"
     ]
    }
   ],
   "source": [
    "# 上の真ん中 6 個の値を 0 にする\n",
    "e[1:3, 1:4] = 0\n",
    "\n",
    "print(e)"
   ]
  },
  {
   "cell_type": "markdown",
   "metadata": {},
   "source": [
    "### 8.3.3. 整数配列による要素の選択"
   ]
  },
  {
   "cell_type": "markdown",
   "metadata": {},
   "source": [
    "ndarrayの`[]`には、整数やスライスのほかに、整数配列を渡すこともできる。  \n",
    "整数配列とは、ここでは整数を要素とするPythonリストまたはndarrayのことを指す。"
   ]
  },
  {
   "cell_type": "code",
   "execution_count": 17,
   "metadata": {},
   "outputs": [
    {
     "name": "stdout",
     "output_type": "stream",
     "text": [
      "[[1 2 3]\n",
      " [4 5 6]\n",
      " [7 8 9]]\n"
     ]
    }
   ],
   "source": [
    "a = np.array(\n",
    "    [[1, 2, 3],\n",
    "     [4, 5, 6],\n",
    "     [7, 8, 9]]\n",
    ")\n",
    "\n",
    "print(a)"
   ]
  },
  {
   "cell_type": "markdown",
   "metadata": {},
   "source": [
    "このndarrayから、  \n",
    "1. 1行2列目：`a[0, 1]`  \n",
    "2. 3行2列目：`a[2, 1]`\n",
    "3. 2行1列目：`a[1, 0]`  \n",
    "の3つの要素を選択して並べ、形が`(3,)`であるようなndarrayを作りたいとする。"
   ]
  },
  {
   "cell_type": "markdown",
   "metadata": {},
   "source": [
    "以下のように、順に対象の要素を指定して並べ、新しいndarrayにすることによっても実現はできる。"
   ]
  },
  {
   "cell_type": "code",
   "execution_count": 19,
   "metadata": {},
   "outputs": [
    {
     "name": "stdout",
     "output_type": "stream",
     "text": [
      "[2 8 4]\n"
     ]
    }
   ],
   "source": [
    "b = np.array([a[0, 1], a[2, 1], a[1, 0]])\n",
    "\n",
    "print(b)"
   ]
  },
  {
   "cell_type": "markdown",
   "metadata": {},
   "source": [
    "しかし、同じことを**選択したい行、選択したい列をそれぞれ順にリストとして与える**ことでも行える。"
   ]
  },
  {
   "cell_type": "code",
   "execution_count": 20,
   "metadata": {},
   "outputs": [
    {
     "name": "stdout",
     "output_type": "stream",
     "text": [
      "[2 8 4]\n"
     ]
    }
   ],
   "source": [
    "# 上と同じ表示を違う方法で\n",
    "b = a[[0, 2, 1], [1, 1, 0]]\n",
    "\n",
    "print(b)"
   ]
  },
  {
   "cell_type": "markdown",
   "metadata": {},
   "source": [
    "**選択したい3つの値がどの行にあるか**だけに注目すると、それぞれ1行目、3行目、2行目にある要素。　　\n",
    "ゼロベースインデックスでは、それぞれ0,2,1行目である。  \n",
    "これが`a`の`[]`に与えられた1つ目のリスト`[0, 2, 1]`の意味である。  \n",
    "\n",
    "同様に**列に着目**すると、ゼロベースインデックスでそれぞれ1,1,0列目の要素である。  \n",
    "これが`a`の`[]`に与えられた2つ目のリスト`[1, 1, 0]`の意味となる。"
   ]
  },
  {
   "cell_type": "markdown",
   "metadata": {},
   "source": [
    "## 8.4. ndarrayのデータ型"
   ]
  },
  {
   "cell_type": "markdown",
   "metadata": {},
   "source": [
    "1つのndarryの要素は、すべて同じ型を持つ。  \n",
    "NumPyでは様々なデータ型を使うことができるが、ここでは一部のみ確認する。  \n",
    "NumpyはPythonリストを渡してndarrayを作る際に、その値からデータ型を推測する。  \n",
    "ndarrayのデータ型は、`dtype`という属性に保存されている。"
   ]
  },
  {
   "cell_type": "code",
   "execution_count": 21,
   "metadata": {},
   "outputs": [
    {
     "name": "stdout",
     "output_type": "stream",
     "text": [
      "int64\n"
     ]
    }
   ],
   "source": [
    "# 整数（Python の int 型）の要素を持つリストを与えた場合\n",
    "x = np.array([1, 2, 3])\n",
    "\n",
    "print(x.dtype)"
   ]
  },
  {
   "cell_type": "code",
   "execution_count": 22,
   "metadata": {},
   "outputs": [
    {
     "name": "stdout",
     "output_type": "stream",
     "text": [
      "float64\n"
     ]
    }
   ],
   "source": [
    "# 浮動小数点（Python の float 型）の要素を持つリストを与えた場合\n",
    "x = np.array([1., 2., 3.])\n",
    "\n",
    "print(x.dtype)"
   ]
  },
  {
   "cell_type": "markdown",
   "metadata": {},
   "source": [
    "以上のように、**Python の int 型は自動的に NumPy の int64 型**となった。また、**Python の float 型は自動的に NumPy のfloat64型**となった。\n",
    "Python の int 型は NumPy の int_ 型に対応付けられており、Python の float 型は NumPy の float_ 型に対応付けられている。  \n",
    "このint_ 型はプラットフォームによって int64 型と同じ場合と int32 型と同じ場合がある。float_ 型についても同様で、プラットフォームによって float64 型と同じ場合と float32 型と同じ場合がある。"
   ]
  },
  {
   "cell_type": "code",
   "execution_count": null,
   "metadata": {},
   "outputs": [],
   "source": []
  }
 ],
 "metadata": {
  "kernelspec": {
   "display_name": "Python 3",
   "language": "python",
   "name": "python3"
  },
  "language_info": {
   "codemirror_mode": {
    "name": "ipython",
    "version": 2
   },
   "file_extension": ".py",
   "mimetype": "text/x-python",
   "name": "python",
   "nbconvert_exporter": "python",
   "pygments_lexer": "ipython2",
   "version": "2.7.15+"
  }
 },
 "nbformat": 4,
 "nbformat_minor": 2
}
