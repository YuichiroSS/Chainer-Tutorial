{
 "cells": [
  {
   "cell_type": "markdown",
   "metadata": {},
   "source": [
    "# 8. NumPy 入門"
   ]
  },
  {
   "cell_type": "markdown",
   "metadata": {},
   "source": [
    "## 8.1. NumPy を使う準備"
   ]
  },
  {
   "cell_type": "code",
   "execution_count": 1,
   "metadata": {},
   "outputs": [],
   "source": [
    "# これは言うまでもない\n",
    "import numpy as np"
   ]
  },
  {
   "cell_type": "markdown",
   "metadata": {},
   "source": [
    "## 8.2. 多次元配列を定義する"
   ]
  },
  {
   "cell_type": "code",
   "execution_count": 2,
   "metadata": {},
   "outputs": [
    {
     "name": "stdout",
     "output_type": "stream",
     "text": [
      "[1 2 3]\n"
     ]
    }
   ],
   "source": [
    "# ベクトルを定義\n",
    "a = np.array([1, 2, 3])\n",
    "\n",
    "print(a)"
   ]
  },
  {
   "cell_type": "markdown",
   "metadata": {},
   "source": [
    "`a.shape`で多次元配列の形がわかる  \n",
    "要素が整数のタプルで返却される"
   ]
  },
  {
   "cell_type": "code",
   "execution_count": 3,
   "metadata": {},
   "outputs": [
    {
     "name": "stdout",
     "output_type": "stream",
     "text": [
      "(3,)\n"
     ]
    }
   ],
   "source": [
    "print(a.shape)"
   ]
  },
  {
   "cell_type": "markdown",
   "metadata": {},
   "source": [
    "次元数は`ndim`という属性に保存されている  \n",
    "これは`len(a.shape)`と同じ値になる  \n",
    "今回、`a`というndarrayは1次元配列であるため、`a.shape`は要素数1のタプルで、  \n",
    "`ndim`の値は1となる\n",
    "\n",
    "次に3×3行列を定義してみる"
   ]
  },
  {
   "cell_type": "code",
   "execution_count": 4,
   "metadata": {},
   "outputs": [
    {
     "name": "stdout",
     "output_type": "stream",
     "text": [
      "[[1 2 3]\n",
      " [4 5 6]\n",
      " [7 8 9]]\n"
     ]
    }
   ],
   "source": [
    "# 行列を定義\n",
    "b = np.array(\n",
    "    [[1, 2, 3],\n",
    "     [4, 5, 6],\n",
    "     [7, 8, 9]]\n",
    ")\n",
    "\n",
    "print(b)"
   ]
  },
  {
   "cell_type": "markdown",
   "metadata": {},
   "source": [
    "形と次元数を調べる"
   ]
  },
  {
   "cell_type": "code",
   "execution_count": 5,
   "metadata": {},
   "outputs": [
    {
     "name": "stdout",
     "output_type": "stream",
     "text": [
      "('Shape : ', (3, 3))\n",
      "('Rank : ', 2)\n"
     ]
    }
   ],
   "source": [
    "print('Shape : ', b.shape)\n",
    "print('Rank : ', b.ndim)"
   ]
  },
  {
   "cell_type": "markdown",
   "metadata": {},
   "source": [
    "次に`size`という属性も確認する  \n",
    "この属性はndarrayがもつ要素数を表している  \n",
    "今回`b`は3×3行列なので、要素数は9"
   ]
  },
  {
   "cell_type": "code",
   "execution_count": 6,
   "metadata": {},
   "outputs": [
    {
     "name": "stdout",
     "output_type": "stream",
     "text": [
      "9\n"
     ]
    }
   ],
   "source": [
    "print(b.size)"
   ]
  },
  {
   "cell_type": "markdown",
   "metadata": {},
   "source": [
    "`np.array()`以外にも多次元配列を作る方法は色々ある  \n",
    "代表例は以下の通り"
   ]
  },
  {
   "cell_type": "markdown",
   "metadata": {},
   "source": [
    "`np.zeros((m, n))`：要素がすべて0の m×n行列を作る関数"
   ]
  },
  {
   "cell_type": "code",
   "execution_count": 7,
   "metadata": {},
   "outputs": [
    {
     "name": "stdout",
     "output_type": "stream",
     "text": [
      "[[0. 0. 0.]\n",
      " [0. 0. 0.]\n",
      " [0. 0. 0.]]\n"
     ]
    }
   ],
   "source": [
    "# 形を指定して、要素がすべて0の ndarray を作る\n",
    "# 3×3行列なので、関数には(3, 3)を代入\n",
    "a = np.zeros((3, 3))\n",
    "\n",
    "print(a)"
   ]
  },
  {
   "cell_type": "markdown",
   "metadata": {},
   "source": [
    "`np.ones((m, n))`：要素がすべて1の m×n行列を作る関数"
   ]
  },
  {
   "cell_type": "code",
   "execution_count": 8,
   "metadata": {},
   "outputs": [
    {
     "name": "stdout",
     "output_type": "stream",
     "text": [
      "[[1. 1. 1.]\n",
      " [1. 1. 1.]]\n"
     ]
    }
   ],
   "source": [
    "# 形を指定して、要素がすべて1の ndarray を作る\n",
    "# 2×3行列なので、関数には(2, 3)を代入\n",
    "b = np.ones((2, 3))\n",
    "\n",
    "print(b)"
   ]
  },
  {
   "cell_type": "markdown",
   "metadata": {},
   "source": [
    "`np.full((m, n), p)`：要素がすべて p の m×n行列を作る"
   ]
  },
  {
   "cell_type": "code",
   "execution_count": 9,
   "metadata": {},
   "outputs": [
    {
     "name": "stdout",
     "output_type": "stream",
     "text": [
      "[[9 9]\n",
      " [9 9]\n",
      " [9 9]]\n"
     ]
    }
   ],
   "source": [
    "# 形を指定して、指定した値のみを要素とする ndarray を作る\n",
    "# 今回は3×2行列で、値が9なので、関数には\"(3, 2), 9\"を代入する\n",
    "c = np.full((3, 2), 9)\n",
    "\n",
    "print(c)"
   ]
  },
  {
   "cell_type": "markdown",
   "metadata": {},
   "source": [
    "`np.eye(n)`：n×n の単位行列を作る関数"
   ]
  },
  {
   "cell_type": "code",
   "execution_count": 10,
   "metadata": {},
   "outputs": [
    {
     "name": "stdout",
     "output_type": "stream",
     "text": [
      "[[1. 0. 0. 0. 0.]\n",
      " [0. 1. 0. 0. 0.]\n",
      " [0. 0. 1. 0. 0.]\n",
      " [0. 0. 0. 1. 0.]\n",
      " [0. 0. 0. 0. 1.]]\n"
     ]
    }
   ],
   "source": [
    "# 指定された大きさの単位行列を表す ndarray を作る\n",
    "# 今回は5×5行列なので、関数には5を代入\n",
    "d = np.eye(5)\n",
    "\n",
    "print(d)"
   ]
  },
  {
   "cell_type": "markdown",
   "metadata": {},
   "source": [
    "`np.random.random((m, n))`：要素がすべて0 ～ 1の乱数で構成される n×m行列を作る関数"
   ]
  },
  {
   "cell_type": "code",
   "execution_count": 11,
   "metadata": {},
   "outputs": [
    {
     "name": "stdout",
     "output_type": "stream",
     "text": [
      "[[0.34788815 0.2193847  0.12309164 0.98176099 0.38804275]\n",
      " [0.48038467 0.2104851  0.28059677 0.1959107  0.26267131]\n",
      " [0.56283689 0.67065836 0.92717665 0.33089533 0.82359477]\n",
      " [0.00279757 0.98876594 0.00956209 0.54560212 0.0413438 ]]\n"
     ]
    }
   ],
   "source": [
    "# 形を指定して、0 ～ 1 の間の乱数を要素とする ndarray を作る\n",
    "# 今回は4×5行列なので、関数には(4, 5)を代入\n",
    "e = np.random.random((4, 5))\n",
    "\n",
    "print(e)"
   ]
  },
  {
   "cell_type": "markdown",
   "metadata": {},
   "source": [
    "`np.arange(n, m, p)`：n から始まり m になる（mは含まない）まで p ずつ増加する数列を作る関数"
   ]
  },
  {
   "cell_type": "code",
   "execution_count": 12,
   "metadata": {},
   "outputs": [
    {
     "name": "stdout",
     "output_type": "stream",
     "text": [
      "[3 4 5 6 7 8 9]\n"
     ]
    }
   ],
   "source": [
    "# 3 から始まり 10 の手前まで1ずつ増加する数列を作る\n",
    "# ベクトルで返却される\n",
    "f = np.arange(3, 10, 1)\n",
    "\n",
    "print(f)"
   ]
  },
  {
   "cell_type": "markdown",
   "metadata": {},
   "source": [
    "## 8.3. 多次元配列の要素を選択する"
   ]
  },
  {
   "cell_type": "markdown",
   "metadata": {},
   "source": [
    "作成したndarrayのうちの特定の要素を選択して、値を取り出す方法を確認する。   \n",
    "最もよく行われる方法は`[]`を使った添字表記（subscription）による要素の選択である。"
   ]
  },
  {
   "cell_type": "markdown",
   "metadata": {},
   "source": [
    "### 8.3.1. 整数による要素の選択"
   ]
  },
  {
   "cell_type": "markdown",
   "metadata": {},
   "source": [
    "上で作成した 4×5 行列`e`から 1 行 2 列目の値を取り出す  \n",
    "i 行 j 列の要素を取り出す際には、`[i - 1, j - 1]`を指定する"
   ]
  },
  {
   "cell_type": "code",
   "execution_count": 13,
   "metadata": {},
   "outputs": [
    {
     "name": "stdout",
     "output_type": "stream",
     "text": [
      "0.21938469886583623\n"
     ]
    }
   ],
   "source": [
    "val = e[0, 1]\n",
    "\n",
    "print(val)"
   ]
  },
  {
   "cell_type": "markdown",
   "metadata": {},
   "source": [
    "### 8.3.2. スライスによる要素の選択"
   ]
  },
  {
   "cell_type": "markdown",
   "metadata": {},
   "source": [
    "Pythonのリストと同様にスライス表記（slicing）を用いて選択したい要素を範囲指定することができる。  \n",
    "ndarrayではさらに、カンマ区切りで複数の次元に対するスライスを指定できる。"
   ]
  },
  {
   "cell_type": "code",
   "execution_count": 14,
   "metadata": {},
   "outputs": [
    {
     "name": "stdout",
     "output_type": "stream",
     "text": [
      "[[0.2104851  0.28059677 0.1959107 ]\n",
      " [0.67065836 0.92717665 0.33089533]]\n"
     ]
    }
   ],
   "source": [
    "# 4 × 5 行列 e の中央 2 × 3 = 6 個の値を取り出す\n",
    "center = e[1:3, 1:4]\n",
    "\n",
    "print(center)"
   ]
  },
  {
   "cell_type": "markdown",
   "metadata": {},
   "source": [
    "`e`と`center`の形を比較してみる"
   ]
  },
  {
   "cell_type": "code",
   "execution_count": 15,
   "metadata": {},
   "outputs": [
    {
     "name": "stdout",
     "output_type": "stream",
     "text": [
      "('Shape of e : ', (4, 5))\n",
      "('Shape of center : ', (2, 3))\n"
     ]
    }
   ],
   "source": [
    "print('Shape of e : ', e.shape)\n",
    "print('Shape of center : ', center.shape)"
   ]
  },
  {
   "cell_type": "markdown",
   "metadata": {},
   "source": [
    "また、インデックスを指定したり、スライスを用いて取り出した ndarray の一部に対し、値を代入することもできる"
   ]
  },
  {
   "cell_type": "code",
   "execution_count": 16,
   "metadata": {},
   "outputs": [
    {
     "name": "stdout",
     "output_type": "stream",
     "text": [
      "[[0.34788815 0.2193847  0.12309164 0.98176099 0.38804275]\n",
      " [0.48038467 0.         0.         0.         0.26267131]\n",
      " [0.56283689 0.         0.         0.         0.82359477]\n",
      " [0.00279757 0.98876594 0.00956209 0.54560212 0.0413438 ]]\n"
     ]
    }
   ],
   "source": [
    "# 上の真ん中 6 個の値を 0 にする\n",
    "e[1:3, 1:4] = 0\n",
    "\n",
    "print(e)"
   ]
  },
  {
   "cell_type": "markdown",
   "metadata": {},
   "source": [
    "### 8.3.3. 整数配列による要素の選択"
   ]
  },
  {
   "cell_type": "markdown",
   "metadata": {},
   "source": [
    "ndarrayの`[]`には、整数やスライスのほかに、整数配列を渡すこともできる。  \n",
    "整数配列とは、ここでは整数を要素とするPythonリストまたはndarrayのことを指す。"
   ]
  },
  {
   "cell_type": "code",
   "execution_count": 17,
   "metadata": {},
   "outputs": [
    {
     "name": "stdout",
     "output_type": "stream",
     "text": [
      "[[1 2 3]\n",
      " [4 5 6]\n",
      " [7 8 9]]\n"
     ]
    }
   ],
   "source": [
    "a = np.array(\n",
    "    [[1, 2, 3],\n",
    "     [4, 5, 6],\n",
    "     [7, 8, 9]]\n",
    ")\n",
    "\n",
    "print(a)"
   ]
  },
  {
   "cell_type": "markdown",
   "metadata": {},
   "source": [
    "このndarrayから、  \n",
    "1. 1行2列目：`a[0, 1]`  \n",
    "2. 3行2列目：`a[2, 1]`\n",
    "3. 2行1列目：`a[1, 0]`  \n",
    "の3つの要素を選択して並べ、形が`(3,)`であるようなndarrayを作りたいとする。"
   ]
  },
  {
   "cell_type": "markdown",
   "metadata": {},
   "source": [
    "以下のように、順に対象の要素を指定して並べ、新しいndarrayにすることによっても実現はできる。"
   ]
  },
  {
   "cell_type": "code",
   "execution_count": 18,
   "metadata": {},
   "outputs": [
    {
     "name": "stdout",
     "output_type": "stream",
     "text": [
      "[2 8 4]\n"
     ]
    }
   ],
   "source": [
    "b = np.array([a[0, 1], a[2, 1], a[1, 0]])\n",
    "\n",
    "print(b)"
   ]
  },
  {
   "cell_type": "markdown",
   "metadata": {},
   "source": [
    "しかし、同じことを**選択したい行、選択したい列をそれぞれ順にリストとして与える**ことでも行える。"
   ]
  },
  {
   "cell_type": "code",
   "execution_count": 19,
   "metadata": {},
   "outputs": [
    {
     "name": "stdout",
     "output_type": "stream",
     "text": [
      "[2 8 4]\n"
     ]
    }
   ],
   "source": [
    "# 上と同じ表示を違う方法で\n",
    "b = a[[0, 2, 1], [1, 1, 0]]\n",
    "\n",
    "print(b)"
   ]
  },
  {
   "cell_type": "markdown",
   "metadata": {},
   "source": [
    "**選択したい3つの値がどの行にあるか**だけに注目すると、それぞれ1行目、3行目、2行目にある要素。　　\n",
    "ゼロベースインデックスでは、それぞれ0,2,1行目である。  \n",
    "これが`a`の`[]`に与えられた1つ目のリスト`[0, 2, 1]`の意味である。  \n",
    "\n",
    "同様に**列に着目**すると、ゼロベースインデックスでそれぞれ1,1,0列目の要素である。  \n",
    "これが`a`の`[]`に与えられた2つ目のリスト`[1, 1, 0]`の意味となる。"
   ]
  },
  {
   "cell_type": "markdown",
   "metadata": {},
   "source": [
    "## 8.4. ndarrayのデータ型"
   ]
  },
  {
   "cell_type": "markdown",
   "metadata": {},
   "source": [
    "1つのndarryの要素は、すべて同じ型を持つ。  \n",
    "NumPyでは様々なデータ型を使うことができるが、ここでは一部のみ確認する。  \n",
    "NumpyはPythonリストを渡してndarrayを作る際に、その値からデータ型を推測する。  \n",
    "ndarrayのデータ型は、`dtype`という属性に保存されている。"
   ]
  },
  {
   "cell_type": "code",
   "execution_count": 20,
   "metadata": {},
   "outputs": [
    {
     "name": "stdout",
     "output_type": "stream",
     "text": [
      "int64\n"
     ]
    }
   ],
   "source": [
    "# 整数（Python の int 型）の要素を持つリストを与えた場合\n",
    "x = np.array([1, 2, 3])\n",
    "\n",
    "print(x.dtype)"
   ]
  },
  {
   "cell_type": "code",
   "execution_count": 21,
   "metadata": {},
   "outputs": [
    {
     "name": "stdout",
     "output_type": "stream",
     "text": [
      "float64\n"
     ]
    }
   ],
   "source": [
    "# 浮動小数点（Python の float 型）の要素を持つリストを与えた場合\n",
    "x = np.array([1., 2., 3.])\n",
    "\n",
    "print(x.dtype)"
   ]
  },
  {
   "cell_type": "markdown",
   "metadata": {},
   "source": [
    "以上のように、**Python の int 型は自動的に NumPy の int64 型**となった。また、**Python の float 型は自動的に NumPy のfloat64型**となった。\n",
    "Python の int 型は NumPy の int_ 型に対応付けられており、Python の float 型は NumPy の float_ 型に対応付けられている。  \n",
    "このint_ 型はプラットフォームによって int64 型と同じ場合と int32 型と同じ場合がある。float_ 型についても同様で、プラットフォームによって float64 型と同じ場合と float32 型と同じ場合がある。"
   ]
  },
  {
   "cell_type": "markdown",
   "metadata": {},
   "source": [
    "特定の型を指定して ndarray を作成するには以下のようにする。"
   ]
  },
  {
   "cell_type": "code",
   "execution_count": 22,
   "metadata": {},
   "outputs": [
    {
     "name": "stdout",
     "output_type": "stream",
     "text": [
      "float32\n"
     ]
    }
   ],
   "source": [
    "# 型を float32 に指定\n",
    "x = np.array([1, 2, 3], dtype=np.float32)\n",
    "\n",
    "print(x.dtype)"
   ]
  },
  {
   "cell_type": "markdown",
   "metadata": {},
   "source": [
    "このように、`dtype`という引数に Numpy の dtype オブジェクトを渡す。\n",
    "上のコードは 32 ビット浮動小数点型を指定する例である。\n",
    "同じことが、文字列で指定することによっても行うことができる。"
   ]
  },
  {
   "cell_type": "code",
   "execution_count": 23,
   "metadata": {},
   "outputs": [
    {
     "name": "stdout",
     "output_type": "stream",
     "text": [
      "float32\n"
     ]
    }
   ],
   "source": [
    "# 型を float32 に指定\n",
    "x = np.array([1, 2, 3], dtype='float32')\n",
    "\n",
    "print(x.dtype)"
   ]
  },
  {
   "cell_type": "markdown",
   "metadata": {},
   "source": [
    "これは以下のようにさらに短く書くこともできる。"
   ]
  },
  {
   "cell_type": "code",
   "execution_count": 24,
   "metadata": {},
   "outputs": [
    {
     "name": "stdout",
     "output_type": "stream",
     "text": [
      "float32\n"
     ]
    }
   ],
   "source": [
    "# 型を float32 に指定\n",
    "x = np.array([1, 2, 3], dtype='f')\n",
    "\n",
    "print(x.dtype)"
   ]
  },
  {
   "cell_type": "markdown",
   "metadata": {},
   "source": [
    "一度あるデータ型で定義した配列のデータ型を別のものに変更するには、`astype`を用いて変換を行う。"
   ]
  },
  {
   "cell_type": "code",
   "execution_count": 25,
   "metadata": {},
   "outputs": [
    {
     "name": "stdout",
     "output_type": "stream",
     "text": [
      "float64\n"
     ]
    }
   ],
   "source": [
    "x = x.astype(np.float64)\n",
    "\n",
    "print(x.dtype)"
   ]
  },
  {
   "cell_type": "markdown",
   "metadata": {},
   "source": [
    "## 8.5. 多次元配列を用いた計算"
   ]
  },
  {
   "cell_type": "markdown",
   "metadata": {},
   "source": [
    "ここでは ndarray を使って行列やベクトルを定義して、それらを用いていくつかの計算を行う。\n",
    "\n",
    "ndarray として定義されたベクトルや行列同士の**要素ごとの加減乗除**は、Python の数値同士の四則演算に用いられる `+`, `-`, `*`, `/` という記号を使って行うことができる。\n",
    "\n",
    "まず、同じ形の行列を２つ定義し、それらの**要素ごとの**加減乗除を行う。"
   ]
  },
  {
   "cell_type": "code",
   "execution_count": 26,
   "metadata": {},
   "outputs": [],
   "source": [
    "# 同じ形（3 × 3）の行列を 2 つ定義する\n",
    "a = np.array([\n",
    "    [0, 1, 2],\n",
    "    [3, 4, 5],\n",
    "    [6, 7, 8]\n",
    "])\n",
    "\n",
    "b = np.array([\n",
    "    [1, 2, 3],\n",
    "    [4, 5, 6],\n",
    "    [7, 8, 9]\n",
    "])"
   ]
  },
  {
   "cell_type": "code",
   "execution_count": 27,
   "metadata": {},
   "outputs": [
    {
     "name": "stdout",
     "output_type": "stream",
     "text": [
      "[[ 1  3  5]\n",
      " [ 7  9 11]\n",
      " [13 15 17]]\n"
     ]
    }
   ],
   "source": [
    "# 足し算\n",
    "c = a + b\n",
    "\n",
    "print(c)"
   ]
  },
  {
   "cell_type": "code",
   "execution_count": 29,
   "metadata": {},
   "outputs": [
    {
     "name": "stdout",
     "output_type": "stream",
     "text": [
      "[[-1 -1 -1]\n",
      " [-1 -1 -1]\n",
      " [-1 -1 -1]]\n"
     ]
    }
   ],
   "source": [
    "# 引き算\n",
    "c = a - b\n",
    "\n",
    "print(c)"
   ]
  },
  {
   "cell_type": "code",
   "execution_count": 30,
   "metadata": {},
   "outputs": [
    {
     "name": "stdout",
     "output_type": "stream",
     "text": [
      "[[ 0  2  6]\n",
      " [12 20 30]\n",
      " [42 56 72]]\n"
     ]
    }
   ],
   "source": [
    "# 掛け算\n",
    "c = a * b\n",
    "\n",
    "print(c)"
   ]
  },
  {
   "cell_type": "code",
   "execution_count": 33,
   "metadata": {},
   "outputs": [
    {
     "name": "stdout",
     "output_type": "stream",
     "text": [
      "[[0 0 0]\n",
      " [0 0 0]\n",
      " [0 0 0]]\n"
     ]
    }
   ],
   "source": [
    "# 割り算\n",
    "c = a / b\n",
    "\n",
    "print(c)\n",
    "# すべて 1 以下の小数になるので、0 しか出ない"
   ]
  },
  {
   "cell_type": "markdown",
   "metadata": {},
   "source": [
    "NumPy では、与えられた多次元配列に対して要素ごとに計算を行う関数が色々と用意されている。\n",
    "以下にいくつかの例を示す。"
   ]
  },
  {
   "cell_type": "code",
   "execution_count": 34,
   "metadata": {},
   "outputs": [
    {
     "name": "stdout",
     "output_type": "stream",
     "text": [
      "[[1.         1.41421356 1.73205081]\n",
      " [2.         2.23606798 2.44948974]\n",
      " [2.64575131 2.82842712 3.        ]]\n"
     ]
    }
   ],
   "source": [
    "# 要素ごとに平方根を計算する\n",
    "c = np.sqrt(b)\n",
    "\n",
    "print(c)"
   ]
  },
  {
   "cell_type": "code",
   "execution_count": 35,
   "metadata": {},
   "outputs": [
    {
     "name": "stdout",
     "output_type": "stream",
     "text": [
      "[[ 1  4  9]\n",
      " [16 25 36]\n",
      " [49 64 81]]\n"
     ]
    }
   ],
   "source": [
    "# 要素ごとに値を n 乗する\n",
    "# 今回は 2 乗で（n = 2）\n",
    "n = 2\n",
    "c = np.power(b, n)\n",
    "\n",
    "print(c)"
   ]
  },
  {
   "cell_type": "markdown",
   "metadata": {},
   "source": [
    "要素ごとに値を n 乗する計算は、以下のようにも書くことができる。"
   ]
  },
  {
   "cell_type": "code",
   "execution_count": 36,
   "metadata": {},
   "outputs": [
    {
     "name": "stdout",
     "output_type": "stream",
     "text": [
      "[[ 1  4  9]\n",
      " [16 25 36]\n",
      " [49 64 81]]\n"
     ]
    }
   ],
   "source": [
    "c = b ** n\n",
    "\n",
    "print(c)"
   ]
  },
  {
   "cell_type": "markdown",
   "metadata": {},
   "source": [
    "はじめに紹介した四則演算は、**同じ大きさの**２つの行列同士で行っていた。\n",
    "ここで、**3 × 3**行列`a` と3次元ベクトル`b`という大きさの異なる配列を定義して、それらを足してみる。"
   ]
  },
  {
   "cell_type": "code",
   "execution_count": 37,
   "metadata": {},
   "outputs": [
    {
     "name": "stdout",
     "output_type": "stream",
     "text": [
      "[[ 1  3  5]\n",
      " [ 4  6  8]\n",
      " [ 7  9 11]]\n"
     ]
    }
   ],
   "source": [
    "a = np.array([\n",
    "    [0, 1, 2], \n",
    "    [3, 4, 5],\n",
    "    [6, 7, 8]\n",
    "]) \n",
    "\n",
    "b = np.array([1, 2, 3])\n",
    "\n",
    "c = a + b\n",
    "\n",
    "print(c)"
   ]
  },
  {
   "cell_type": "markdown",
   "metadata": {},
   "source": [
    "列が同じ行列同士の場合と同様に計算することができた。"
   ]
  },
  {
   "cell_type": "markdown",
   "metadata": {},
   "source": [
    "これは NumPy が自動的に**ブロードキャスト（broadcast）**と呼ばれる操作を行っているためである。"
   ]
  },
  {
   "cell_type": "markdown",
   "metadata": {},
   "source": [
    "## 8.6. ブロードキャスト"
   ]
  }
 ],
 "metadata": {
  "kernelspec": {
   "display_name": "Python 3",
   "language": "python",
   "name": "python3"
  },
  "language_info": {
   "codemirror_mode": {
    "name": "ipython",
    "version": 2
   },
   "file_extension": ".py",
   "mimetype": "text/x-python",
   "name": "python",
   "nbconvert_exporter": "python",
   "pygments_lexer": "ipython2",
   "version": "2.7.15+"
  }
 },
 "nbformat": 4,
 "nbformat_minor": 2
}
